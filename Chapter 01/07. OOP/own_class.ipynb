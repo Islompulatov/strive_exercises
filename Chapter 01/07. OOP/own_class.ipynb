{
 "cells": [
  {
   "cell_type": "code",
   "execution_count": 6,
   "metadata": {},
   "outputs": [
    {
     "name": "stdout",
     "output_type": "stream",
     "text": [
      "This model called:  S20\n",
      "Name of the phone:  Samsung\n",
      "Color of the phone:  Gold\n"
     ]
    }
   ],
   "source": [
    "class Phone:\n",
    "    def __init__(self, name, price, color):\n",
    "        self.name = name\n",
    "        self.price = price\n",
    "        self.color = color\n",
    "        self.rating_stars = []\n",
    "\n",
    "    def display(self):\n",
    "        print(\"Name of the phone: \", self.name)\n",
    "        print(\"Color of the phone: \",self.color)    \n",
    "\n",
    "    def add_rating(self, stars):\n",
    "        self.rating_stars.append(stars) \n",
    "    def average_rating(self):\n",
    "        average = sum(self.rating_stars)/len(self.rating_stars)\n",
    "        return average \n",
    "  \n",
    "\n",
    "\n",
    "class Android(Phone):\n",
    "    def __init__(self, name, price, color,model):\n",
    "        super().__init__(name, price, color)\n",
    "        self.model = model\n",
    "    def display(self):\n",
    "           print(\"This model called: \", self.model)    \n",
    "           return super().display()  \n",
    "\n",
    "s1 = Android(\"Samsung\", 14, \"Gold\", \"S20\")\n",
    "s1.display()\n"
   ]
  }
 ],
 "metadata": {
  "interpreter": {
   "hash": "770021e68aae5e5bc49f7a3b6edb919a4a251fef8e7696fd47196c25263b13c4"
  },
  "kernelspec": {
   "display_name": "Python 3.9.7 64-bit ('base': conda)",
   "language": "python",
   "name": "python3"
  },
  "language_info": {
   "codemirror_mode": {
    "name": "ipython",
    "version": 3
   },
   "file_extension": ".py",
   "mimetype": "text/x-python",
   "name": "python",
   "nbconvert_exporter": "python",
   "pygments_lexer": "ipython3",
   "version": "3.9.7"
  },
  "orig_nbformat": 4
 },
 "nbformat": 4,
 "nbformat_minor": 2
}
