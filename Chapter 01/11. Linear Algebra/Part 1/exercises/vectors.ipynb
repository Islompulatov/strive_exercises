{
 "cells": [
  {
   "cell_type": "code",
   "execution_count": 18,
   "metadata": {},
   "outputs": [
    {
     "name": "stdout",
     "output_type": "stream",
     "text": [
      "[2 1]\n",
      "[2 6]\n",
      "[2 6 4]\n",
      "[13 -4 13  5]\n"
     ]
    }
   ],
   "source": [
    "import numpy as np\n",
    "def add_vectors(u, v):\n",
    "   u = np.array([1, 0])\n",
    "   v = np.array([1, 1])\n",
    "   print(u+v)\n",
    "   u = np.array([1, 2])\n",
    "   v = np.array([1, 4])\n",
    "   print(u+v)\n",
    "   u = np.array([1, 2, 1])\n",
    "   v = np.array([1, 4, 3])\n",
    "   print(u+v) \n",
    "   u = np.array([11, 0, -4, 5])\n",
    "   v = np.array([2, -4, 17, 0])\n",
    "   print(u+v) \n",
    "    \n",
    "    \n",
    "    \n",
    "add_vectors([1, 0], [1, 1])"
   ]
  },
  {
   "cell_type": "code",
   "execution_count": 21,
   "metadata": {},
   "outputs": [
    {
     "name": "stdout",
     "output_type": "stream",
     "text": [
      "[2 3 4]\n",
      "[1 2 3]\n",
      "[1 1 1]\n"
     ]
    }
   ],
   "source": [
    "a = np.array([1, 2, 3])\n",
    "b = np.array([1, 1, 1])\n",
    "print(a+b)\n",
    "print(a)\n",
    "print(b)"
   ]
  },
  {
   "cell_type": "code",
   "execution_count": 26,
   "metadata": {},
   "outputs": [
    {
     "data": {
      "text/plain": [
       "[2, 3, 4]"
      ]
     },
     "execution_count": 26,
     "metadata": {},
     "output_type": "execute_result"
    }
   ],
   "source": [
    "a = [1, 2, 3]\n",
    "b = [1, 1, 1]\n",
    "a[0] += b[0]\n",
    "a[1] += b[1]\n",
    "a[2] += b[2]\n",
    "a"
   ]
  },
  {
   "cell_type": "code",
   "execution_count": 32,
   "metadata": {},
   "outputs": [
    {
     "name": "stdout",
     "output_type": "stream",
     "text": [
      "[ 5 10]\n",
      "[ 5 10]\n",
      "[ 5 10]\n"
     ]
    },
    {
     "data": {
      "text/plain": [
       "array([ 5, 10])"
      ]
     },
     "execution_count": 32,
     "metadata": {},
     "output_type": "execute_result"
    }
   ],
   "source": [
    "def scalar_mult(s, v):\n",
    "    s =np.array([5])\n",
    "    v =np.array([1,2])\n",
    "    print(s*v)\n",
    "    return s*v\n",
    "scalar_mult(7, [3, 0, 5, 11, 2])\n",
    "scalar_mult(4, [1, 2, 3])\n",
    "\n",
    "scalar_mult(5, [1, 2])"
   ]
  },
  {
   "cell_type": "code",
   "execution_count": 37,
   "metadata": {},
   "outputs": [
    {
     "data": {
      "text/plain": [
       "0"
      ]
     },
     "execution_count": 37,
     "metadata": {},
     "output_type": "execute_result"
    }
   ],
   "source": [
    "def dot_product(u, v):\n",
    "    return np.dot(u,v)\n",
    "\n",
    "dot_product([1, 1], [1, 1])   \n",
    "dot_product([1, 2], [1, 4])\n",
    "dot_product([1, 2, 1], [1, 4, 3])\n",
    "dot_product([2, 0, -1, 1], [1, 5, 2, 0])\n",
    "            "
   ]
  },
  {
   "cell_type": "code",
   "execution_count": 41,
   "metadata": {},
   "outputs": [],
   "source": [
    "def copy_matrix(matrix):\n",
    "\n",
    "    copy_matrix([[1, 2], [3, 4]])\n",
    "      \n",
    "    copy_matrix([[1, 2, 3], [4, 5, 6]])\n",
    "      \n",
    "    copy_matrix([[1, 2], [3, 4], [5, 6], [7, 8]])\n",
    "    \n",
    "\n",
    "    copyofm = copy_matrix(m)\n",
    "    copyofm\n",
    "      \n",
    "    for row_num, row in enumerate(copyofm):\n",
    "        for col_num, col_val in enumerate(row):\n",
    "           copyofm[row_num][col_num] = 42\n",
    "    \n"
   ]
  },
  {
   "cell_type": "code",
   "execution_count": 52,
   "metadata": {},
   "outputs": [
    {
     "name": "stdout",
     "output_type": "stream",
     "text": [
      "33\n"
     ]
    }
   ],
   "source": [
    "def scalar_mult(s, m):\n",
    "    a = np.dot(s,m)\n",
    "    print(3*a)\n",
    "scalar_mult([1, 2], [3, 4])\n",
    "          "
   ]
  }
 ],
 "metadata": {
  "interpreter": {
   "hash": "770021e68aae5e5bc49f7a3b6edb919a4a251fef8e7696fd47196c25263b13c4"
  },
  "kernelspec": {
   "display_name": "Python 3.9.7 ('base')",
   "language": "python",
   "name": "python3"
  },
  "language_info": {
   "codemirror_mode": {
    "name": "ipython",
    "version": 3
   },
   "file_extension": ".py",
   "mimetype": "text/x-python",
   "name": "python",
   "nbconvert_exporter": "python",
   "pygments_lexer": "ipython3",
   "version": "3.9.7"
  },
  "orig_nbformat": 4
 },
 "nbformat": 4,
 "nbformat_minor": 2
}
