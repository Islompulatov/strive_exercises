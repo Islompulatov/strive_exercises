{
 "cells": [
  {
   "cell_type": "code",
   "execution_count": 2,
   "id": "77013c6d",
   "metadata": {
    "ExecuteTime": {
     "end_time": "2021-07-14T22:17:29.865436Z",
     "start_time": "2021-07-14T22:17:29.857499Z"
    }
   },
   "outputs": [],
   "source": [
    "import numpy as np\n",
    "import matplotlib.pyplot as plt\n"
   ]
  },
  {
   "cell_type": "code",
   "execution_count": 3,
   "id": "d176a7a0",
   "metadata": {
    "ExecuteTime": {
     "end_time": "2021-07-14T22:18:04.821952Z",
     "start_time": "2021-07-14T22:18:04.814361Z"
    }
   },
   "outputs": [],
   "source": [
    "from scipy.misc import derivative"
   ]
  },
  {
   "cell_type": "code",
   "execution_count": 3,
   "id": "fe1eb755",
   "metadata": {
    "ExecuteTime": {
     "end_time": "2021-07-15T05:06:03.302850Z",
     "start_time": "2021-07-15T05:06:03.297640Z"
    }
   },
   "outputs": [],
   "source": [
    "def function(x):\n",
    "    return 10*np.sin(x) - np.sin(1/x) + 5*np.cos(2*x) + 1/2*np.sin(np.exp(x)) + x"
   ]
  },
  {
   "cell_type": "code",
   "execution_count": 4,
   "id": "0ae33dca",
   "metadata": {
    "ExecuteTime": {
     "end_time": "2021-07-15T05:06:03.913501Z",
     "start_time": "2021-07-15T05:06:03.907662Z"
    }
   },
   "outputs": [],
   "source": [
    "x = np.linspace(-7,5,10000)\n",
    "X, Y = x, function(x)"
   ]
  },
  {
   "cell_type": "code",
   "execution_count": 5,
   "id": "801c63ed",
   "metadata": {
    "ExecuteTime": {
     "end_time": "2021-07-15T05:06:04.168845Z",
     "start_time": "2021-07-15T05:06:04.062639Z"
    }
   },
   "outputs": [
    {
     "data": {
      "text/plain": [
       "[<matplotlib.lines.Line2D at 0x249ae17afa0>]"
      ]
     },
     "execution_count": 5,
     "metadata": {},
     "output_type": "execute_result"
    },
    {
     "data": {
      "image/png": "[encoded data removed]",
      "text/plain": [
       "<Figure size 432x288 with 1 Axes>"
      ]
     },
     "metadata": {
      "needs_background": "light"
     },
     "output_type": "display_data"
    }
   ],
   "source": [
    "plt.plot(X, Y)"
   ]
  },
  {
   "cell_type": "markdown",
   "id": "3009ab9e",
   "metadata": {},
   "source": [
    "The following algorithm is supposed to iteratively find the minimum of a function. \n",
    "\n",
    "What problem does it have?"
   ]
  },
  {
   "cell_type": "code",
   "execution_count": 12,
   "id": "62f8d49c",
   "metadata": {
    "ExecuteTime": {
     "end_time": "2021-07-15T05:06:08.932205Z",
     "start_time": "2021-07-15T05:06:08.786842Z"
    }
   },
   "outputs": [
    {
     "ename": "NameError",
     "evalue": "name 'X' is not defined",
     "output_type": "error",
     "traceback": [
      "\u001b[1;31m---------------------------------------------------------------------------\u001b[0m",
      "\u001b[1;31mNameError\u001b[0m                                 Traceback (most recent call last)",
      "\u001b[1;32m~\\AppData\\Local\\Temp/ipykernel_6788/305467600.py\u001b[0m in \u001b[0;36m<module>\u001b[1;34m\u001b[0m\n\u001b[0;32m      1\u001b[0m \u001b[1;32mimport\u001b[0m \u001b[0mmatplotlib\u001b[0m\u001b[1;33m.\u001b[0m\u001b[0mcm\u001b[0m \u001b[1;32mas\u001b[0m \u001b[0mcm\u001b[0m\u001b[1;33m\u001b[0m\u001b[1;33m\u001b[0m\u001b[0m\n\u001b[1;32m----> 2\u001b[1;33m \u001b[0mx\u001b[0m \u001b[1;33m=\u001b[0m \u001b[0mX\u001b[0m\u001b[1;33m\u001b[0m\u001b[1;33m\u001b[0m\u001b[0m\n\u001b[0m\u001b[0;32m      3\u001b[0m \u001b[0mindex\u001b[0m \u001b[1;33m=\u001b[0m \u001b[0mnp\u001b[0m\u001b[1;33m.\u001b[0m\u001b[0mrandom\u001b[0m\u001b[1;33m.\u001b[0m\u001b[0mrandint\u001b[0m\u001b[1;33m(\u001b[0m\u001b[1;36m0\u001b[0m\u001b[1;33m,\u001b[0m \u001b[0mlen\u001b[0m\u001b[1;33m(\u001b[0m\u001b[0mx\u001b[0m\u001b[1;33m)\u001b[0m\u001b[1;33m)\u001b[0m \u001b[1;31m# randomly select an index to sample a point\u001b[0m\u001b[1;33m\u001b[0m\u001b[1;33m\u001b[0m\u001b[0m\n\u001b[0;32m      4\u001b[0m \u001b[0mpoint\u001b[0m \u001b[1;33m=\u001b[0m \u001b[0mx\u001b[0m\u001b[1;33m[\u001b[0m\u001b[0mindex\u001b[0m\u001b[1;33m]\u001b[0m \u001b[1;31m# sample a point to start\u001b[0m\u001b[1;33m\u001b[0m\u001b[1;33m\u001b[0m\u001b[0m\n\u001b[0;32m      5\u001b[0m \u001b[0mderivative_in_point\u001b[0m \u001b[1;33m=\u001b[0m \u001b[0mderivative\u001b[0m\u001b[1;33m(\u001b[0m\u001b[0mfunction\u001b[0m\u001b[1;33m,\u001b[0m \u001b[0mpoint\u001b[0m\u001b[1;33m)\u001b[0m\u001b[1;33m\u001b[0m\u001b[1;33m\u001b[0m\u001b[0m\n",
      "\u001b[1;31mNameError\u001b[0m: name 'X' is not defined"
     ]
    }
   ],
   "source": [
    "import matplotlib.cm as cm\n",
    "x = X\n",
    "index = np.random.randint(0, len(x)) # randomly select an index to sample a point\n",
    "point = x[index] # sample a point to start\n",
    "derivative_in_point = derivative(function, point)\n",
    "it = 0 # current iteration\n",
    "max_it = 100 # set the max number of iterations to avoid infinite loops\n",
    "points = [] # list of the points we have inspected\n",
    "threshold = 0.01 # instead for waiting till we reach the 0 of the derivative, put a threshold\n",
    "while np.abs(derivative_in_point)> 0.01 and it<max_it: \n",
    "    if derivative_in_point < 0: # the slope is negative\n",
    "        X = x[index:] # since the slope is negative, the local minimum should be on the right\n",
    "        index = np.random.randint(0, len(x)) # randomly select an index\n",
    "        point = x[index] # sample the next point in the new interval\n",
    "        points.append(point) # store for later\n",
    "        derivative_in_point = derivative(function, point) # compute the derivative in the new point\n",
    "    else:\n",
    "        X = x[0:index+1] # the slope is positive, so the minimum should be on the left\n",
    "        index = np.random.randint(0, len(x))\n",
    "        point = x[index]\n",
    "        points.append(point)\n",
    "        derivative_in_point = derivative(function, point)\n",
    "    it +=1\n",
    "plt.figure()\n",
    "plt.plot(X,Y)\n",
    "plt.scatter(np.array(points), function(np.array(points)), c=range(len(points)), cmap=cm.jet)\n",
    "plt.title(str(it))\n",
    "plt.colorbar()\n"
   ]
  },
  {
   "cell_type": "markdown",
   "id": "1f4cc810",
   "metadata": {
    "ExecuteTime": {
     "end_time": "2021-07-15T04:59:21.373210Z",
     "start_time": "2021-07-15T04:59:21.369706Z"
    }
   },
   "source": [
    "## Exercise\n",
    "\n",
    "1. Can you make the algorithm above to be implemented into a fuction `gradient_descent(function, X, max_it)`?\n",
    "\n",
    "2. Run the experiment multiple times: do you notice any important difference at each iteration?"
   ]
  },
  {
   "cell_type": "markdown",
   "id": "14952b46",
   "metadata": {},
   "source": [
    "## Integral\n",
    "\n",
    "Scipy library also offers the possibility to compute the integral of a function.\n",
    "\n",
    "In addition, the method `plt.fill_between(section, function(section)` colors the area under the curve of a generic function. \n",
    "\n",
    "Search the documentation of both and compute the area under the curve of the functions in the given intervals of the following exercises and plot them.\n",
    "\n"
   ]
  },
  {
   "cell_type": "code",
   "execution_count": null,
   "id": "72456a02",
   "metadata": {},
   "outputs": [],
   "source": []
  },
  {
   "cell_type": "markdown",
   "id": "309995f2",
   "metadata": {},
   "source": [
    "### Example\n",
    "\n",
    "interval = \\[2,5\\]\n",
    "\n",
    "Function f(x) = x\n"
   ]
  },
  {
   "cell_type": "code",
   "execution_count": 5,
   "id": "eb913413",
   "metadata": {
    "ExecuteTime": {
     "end_time": "2021-07-15T05:24:41.460236Z",
     "start_time": "2021-07-15T05:24:41.452053Z"
    }
   },
   "outputs": [
    {
     "data": {
      "text/plain": [
       "(10.5, 1.1657341758564144e-13)"
      ]
     },
     "execution_count": 5,
     "metadata": {},
     "output_type": "execute_result"
    }
   ],
   "source": [
    "from scipy import integrate\n",
    "a, b = [2, 5]\n",
    "def f(x):\n",
    "    return x\n",
    "\n",
    "result = integrate.quad(f, a, b)\n",
    "result"
   ]
  },
  {
   "cell_type": "markdown",
   "id": "930d9b53",
   "metadata": {},
   "source": [
    "The return value is a tuple, with the first element holding the estimated value of the integral and the second element holding an upper bound on the error.\n",
    "\n",
    "More in https://docs.scipy.org/doc/scipy/reference/tutorial/integrate.html ."
   ]
  },
  {
   "cell_type": "code",
   "execution_count": 8,
   "id": "2db71d3a",
   "metadata": {
    "ExecuteTime": {
     "end_time": "2021-07-15T05:24:41.798133Z",
     "start_time": "2021-07-15T05:24:41.793367Z"
    }
   },
   "outputs": [],
   "source": [
    "area_under_the_curve = result[0]"
   ]
  },
  {
   "cell_type": "code",
   "execution_count": 13,
   "id": "fc720614",
   "metadata": {
    "ExecuteTime": {
     "end_time": "2021-07-15T05:24:42.072114Z",
     "start_time": "2021-07-15T05:24:41.968014Z"
    }
   },
   "outputs": [
    {
     "data": {
      "text/plain": [
       "<matplotlib.collections.PolyCollection at 0x216079f1fd0>"
      ]
     },
     "execution_count": 13,
     "metadata": {},
     "output_type": "execute_result"
    },
    {
     "data": {
      "image/png": "[encoded data removed]",
      "text/plain": [
       "<Figure size 432x288 with 1 Axes>"
      ]
     },
     "metadata": {
      "needs_background": "light"
     },
     "output_type": "display_data"
    }
   ],
   "source": [
    "x = np.linspace(1,10, 100)\n",
    "section = np.arange(2, 5, 1/20)\n",
    "plt.plot(x, f(x))\n",
    "plt.fill_between(section,f(section))\n"
   ]
  },
  {
   "cell_type": "code",
   "execution_count": null,
   "id": "f5594592",
   "metadata": {},
   "outputs": [],
   "source": []
  },
  {
   "cell_type": "markdown",
   "id": "63b7cacc",
   "metadata": {},
   "source": [
    "1. interval = \\[2,5\\]\n",
    "\n",
    "Function f(x) = 5\n",
    "\n",
    "Compare the result computing the area by hand. Does it make sense?\n",
    "\n",
    "Be careful: defining a constant function, you may end up with a single number instead of an array of the same size of the input. For this, I recommend to put in your function `constant_value*np.ones_like(x)`."
   ]
  },
  {
   "cell_type": "code",
   "execution_count": 19,
   "id": "5f4cc0f1",
   "metadata": {},
   "outputs": [
    {
     "name": "stdout",
     "output_type": "stream",
     "text": [
      "(0.9162907318741551, 1.0172870677773229e-14)\n",
      "0.9162907318741551\n"
     ]
    }
   ],
   "source": [
    "a,b = [2,5]\n",
    "def fi(x):\n",
    "    return 5*np.ones_like(x)\n",
    "\n",
    "res0 = integrate.quad(fi, a, b)\n",
    "print(res0) \n",
    "area_under_the_curve = res0[0]\n",
    "print(area_under_the_curve)"
   ]
  },
  {
   "cell_type": "code",
   "execution_count": 69,
   "id": "e03d93e9",
   "metadata": {},
   "outputs": [
    {
     "data": {
      "image/png": "[encoded data removed]",
      "text/plain": [
       "<Figure size 432x288 with 1 Axes>"
      ]
     },
     "metadata": {
      "needs_background": "light"
     },
     "output_type": "display_data"
    }
   ],
   "source": [
    "x = np.linspace(1,10, 100)\n",
    "section = np.arange(2, 5, 1/20)\n",
    "plt.plot(x, fi(x))\n",
    "plt.fill_between(section,fi(section))\n",
    "plt.grid()\n",
    "plt.tight_layout()\n",
    "plt.show()"
   ]
  },
  {
   "cell_type": "markdown",
   "id": "055f51bf",
   "metadata": {},
   "source": [
    "2. interval = \\[-1,1\\]\n",
    "\n",
    "Function f(x) = 1/x"
   ]
  },
  {
   "cell_type": "code",
   "execution_count": 41,
   "id": "441e6cf1",
   "metadata": {},
   "outputs": [
    {
     "data": {
      "text/plain": [
       "(1.0389614678684e-310, 5.503777059140336e-14)"
      ]
     },
     "execution_count": 41,
     "metadata": {},
     "output_type": "execute_result"
    }
   ],
   "source": [
    "a,b = [-1,1]\n",
    "\n",
    "\n",
    "def func0(x):\n",
    "    c = np.divide(1, x, where=x!=0)\n",
    "    return c\n",
    "\n",
    "    \n",
    "\n",
    "res = integrate.quad(func0,a,b)\n",
    "res"
   ]
  },
  {
   "cell_type": "code",
   "execution_count": 52,
   "id": "dd81e316",
   "metadata": {},
   "outputs": [
    {
     "name": "stdout",
     "output_type": "stream",
     "text": [
      "1.0389614678684e-310\n"
     ]
    }
   ],
   "source": [
    "area_under_the_curve = res[0]\n",
    "print(area_under_the_curve)"
   ]
  },
  {
   "cell_type": "code",
   "execution_count": 53,
   "id": "95830bfe",
   "metadata": {},
   "outputs": [
    {
     "data": {
      "text/plain": [
       "<matplotlib.collections.PolyCollection at 0x21608d30190>"
      ]
     },
     "execution_count": 53,
     "metadata": {},
     "output_type": "execute_result"
    },
    {
     "data": {
      "image/png": "[encoded data removed]",
      "text/plain": [
       "<Figure size 432x288 with 1 Axes>"
      ]
     },
     "metadata": {
      "needs_background": "light"
     },
     "output_type": "display_data"
    }
   ],
   "source": [
    "x = np.linspace(-1,1,10)\n",
    "section = np.arange(-1, 1, 1/20)\n",
    "plt.plot(x, func0(x))\n",
    "plt.fill_between(section,func0(section))"
   ]
  },
  {
   "cell_type": "markdown",
   "id": "1a875aac",
   "metadata": {},
   "source": [
    "2. interval = \\[-pi,pi\\]\n",
    "\n",
    "Function f(x) = sin(x)"
   ]
  },
  {
   "cell_type": "code",
   "execution_count": 11,
   "id": "2da53c67",
   "metadata": {},
   "outputs": [
    {
     "data": {
      "text/plain": [
       "(0.0, 4.3998892617846e-14)"
      ]
     },
     "execution_count": 11,
     "metadata": {},
     "output_type": "execute_result"
    }
   ],
   "source": [
    "a, b  = [-np.pi,np.pi]\n",
    "def func(x):\n",
    "    return np.sin(x)\n",
    "\n",
    "ans = integrate.quad(func, a, b)\n",
    "ans"
   ]
  },
  {
   "cell_type": "code",
   "execution_count": 12,
   "id": "087937c9",
   "metadata": {},
   "outputs": [
    {
     "name": "stdout",
     "output_type": "stream",
     "text": [
      "0.0\n"
     ]
    }
   ],
   "source": [
    "area_under_the_curve = ans[0]\n",
    "print(area_under_the_curve)"
   ]
  },
  {
   "cell_type": "code",
   "execution_count": 13,
   "id": "055147cf",
   "metadata": {},
   "outputs": [
    {
     "data": {
      "image/png": "[encoded data removed]",
      "text/plain": [
       "<Figure size 432x288 with 1 Axes>"
      ]
     },
     "metadata": {
      "needs_background": "light"
     },
     "output_type": "display_data"
    }
   ],
   "source": [
    "x = np.linspace(-10,10, 1000)\n",
    "section = np.arange(-np.pi, np.pi, 1/20)\n",
    "plt.plot(x, func(x))\n",
    "plt.fill_between(section,func(section))\n",
    "plt.grid()\n",
    "plt.show()"
   ]
  },
  {
   "cell_type": "markdown",
   "id": "4ebf3b17",
   "metadata": {},
   "source": [
    "3. interval = \\[-pi,pi\\]\n",
    "\n",
    "Function f(x) = cos(x)\n"
   ]
  },
  {
   "cell_type": "code",
   "execution_count": 14,
   "id": "c189dc72",
   "metadata": {},
   "outputs": [
    {
     "data": {
      "text/plain": [
       "(2.615901373506474e-16, 4.471737093238828e-14)"
      ]
     },
     "execution_count": 14,
     "metadata": {},
     "output_type": "execute_result"
    }
   ],
   "source": [
    "a,b = [-np.pi, np.pi]\n",
    "def f(x):\n",
    "    return np.cos(x)\n",
    "result3 = integrate.quad(f,a,b)\n",
    "result3    "
   ]
  },
  {
   "cell_type": "code",
   "execution_count": 15,
   "id": "feec2d17",
   "metadata": {},
   "outputs": [
    {
     "name": "stdout",
     "output_type": "stream",
     "text": [
      "2.615901373506474e-16\n"
     ]
    }
   ],
   "source": [
    "area_under_the_curve = result3[0]\n",
    "print(area_under_the_curve)"
   ]
  },
  {
   "cell_type": "code",
   "execution_count": 16,
   "id": "21bc108e",
   "metadata": {},
   "outputs": [
    {
     "data": {
      "image/png": "[encoded data removed]",
      "text/plain": [
       "<Figure size 432x288 with 1 Axes>"
      ]
     },
     "metadata": {
      "needs_background": "light"
     },
     "output_type": "display_data"
    }
   ],
   "source": [
    "x = np.linspace(-10,10, 1000)\n",
    "section = np.arange(-np.pi, np.pi, 1/20)\n",
    "plt.plot(x, f(x))\n",
    "plt.fill_between(section,f(section))\n",
    "plt.grid()\n",
    "plt.show()"
   ]
  },
  {
   "cell_type": "markdown",
   "id": "17ef84dc",
   "metadata": {},
   "source": [
    "2. interval = \\[-pi,pi\\]\n",
    "\n",
    "Function f(x) = sin(x) - cos(2x)"
   ]
  },
  {
   "cell_type": "code",
   "execution_count": 17,
   "id": "49ab80c2",
   "metadata": {},
   "outputs": [
    {
     "data": {
      "text/plain": [
       "(5.231802747012948e-16, 4.085699506880975e-09)"
      ]
     },
     "execution_count": 17,
     "metadata": {},
     "output_type": "execute_result"
    }
   ],
   "source": [
    "a, b = [-np.pi, np.pi]\n",
    "def func2(x):\n",
    "    return np.sin(x)-np.cos(2*x)\n",
    "result4 = integrate.quad(func2, a, b)   \n",
    "result4 "
   ]
  },
  {
   "cell_type": "code",
   "execution_count": 18,
   "id": "2dec8a40",
   "metadata": {},
   "outputs": [
    {
     "name": "stdout",
     "output_type": "stream",
     "text": [
      "5.231802747012948e-16\n"
     ]
    }
   ],
   "source": [
    "area_under_the_curve = result4[0]\n",
    "print(area_under_the_curve)"
   ]
  },
  {
   "cell_type": "code",
   "execution_count": 19,
   "id": "d0d8dd1e",
   "metadata": {},
   "outputs": [
    {
     "data": {
      "image/png": "[encoded data removed]",
      "text/plain": [
       "<Figure size 432x288 with 1 Axes>"
      ]
     },
     "metadata": {
      "needs_background": "light"
     },
     "output_type": "display_data"
    }
   ],
   "source": [
    "x = np.linspace(-10,10, 1000)\n",
    "section = np.arange(-np.pi, np.pi, 1/20)\n",
    "plt.plot(x, func2(x))\n",
    "plt.fill_between(section,func2(section))\n",
    "plt.grid()\n",
    "plt.show()"
   ]
  }
 ],
 "metadata": {
  "kernelspec": {
   "display_name": "Python 3",
   "language": "python",
   "name": "python3"
  },
  "language_info": {
   "codemirror_mode": {
    "name": "ipython",
    "version": 3
   },
   "file_extension": ".py",
   "mimetype": "text/x-python",
   "name": "python",
   "nbconvert_exporter": "python",
   "pygments_lexer": "ipython3",
   "version": "3.9.7"
  },
  "varInspector": {
   "cols": {
    "lenName": 16,
    "lenType": 16,
    "lenVar": 40
   },
   "kernels_config": {
    "python": {
     "delete_cmd_postfix": "",
     "delete_cmd_prefix": "del ",
     "library": "var_list.py",
     "varRefreshCmd": "print(var_dic_list())"
    },
    "r": {
     "delete_cmd_postfix": ") ",
     "delete_cmd_prefix": "rm(",
     "library": "var_list.r",
     "varRefreshCmd": "cat(var_dic_list()) "
    }
   },
   "types_to_exclude": [
    "module",
    "function",
    "builtin_function_or_method",
    "instance",
    "_Feature"
   ],
   "window_display": false
  }
 },
 "nbformat": 4,
 "nbformat_minor": 5
}
