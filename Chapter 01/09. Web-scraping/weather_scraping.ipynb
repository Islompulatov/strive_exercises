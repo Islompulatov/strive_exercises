{
 "cells": [
  {
   "cell_type": "code",
   "execution_count": 10,
   "metadata": {},
   "outputs": [],
   "source": [
    "from selenium import webdriver\n",
    "from selenium.webdriver.common.keys import Keys\n",
    "from selenium.webdriver.common.by import By\n",
    "from time import sleep\n",
    "import pandas as pd"
   ]
  },
  {
   "cell_type": "code",
   "execution_count": 17,
   "metadata": {},
   "outputs": [
    {
     "name": "stdout",
     "output_type": "stream",
     "text": [
      "Wed 09\n",
      "69°\n",
      "/51°\n",
      "Mostly Sunny\n",
      "1%\n",
      "NNE 10 mph\n",
      "Thu 10\n",
      "70°\n",
      "/48°\n",
      "Sunny\n",
      "1%\n",
      "NE 10 mph\n",
      "Fri 11\n",
      "68°\n",
      "/48°\n",
      "Sunny\n",
      "4%\n",
      "NNE 7 mph\n",
      "Sat 12\n",
      "68°\n",
      "/48°\n",
      "Mostly Sunny\n",
      "5%\n",
      "NNE 9 mph\n",
      "Sun 13\n",
      "65°\n",
      "/47°\n",
      "Partly Cloudy\n",
      "6%\n",
      "NNW 8 mph\n",
      "Mon 14\n",
      "59°\n",
      "/46°\n",
      "Mostly Sunny\n",
      "7%\n",
      "WNW 15 mph\n",
      "Tue 15\n",
      "61°\n",
      "/47°\n",
      "Sunny\n",
      "2%\n",
      "NNW 16 mph\n",
      "Wed 16\n",
      "63°\n",
      "/45°\n",
      "Sunny\n",
      "1%\n",
      "NNW 10 mph\n",
      "Thu 17\n",
      "62°\n",
      "/45°\n",
      "Mostly Sunny\n",
      "2%\n",
      "N 8 mph\n",
      "Fri 18\n",
      "63°\n",
      "/44°\n",
      "Sunny\n",
      "2%\n",
      "NNW 9 mph\n"
     ]
    }
   ],
   "source": [
    "url = ('https://weather.com/weather/tenday/l/San+Francisco+CA?canonicalCityId=dfdaba8cbe3a4d12a8796e1f7b1ccc7174b4b0a2d5ddb1c8566ae9f154fa638c')\n",
    "pth = '/Users/asus/Documents/GitHub/strive_exercises/Chapter 01/09. Web-scraping/chromedriver.exe'\n",
    "driver = webdriver.Chrome(pth)\n",
    "driver.get(url)\n",
    "driver.implicitly_wait(20)\n",
    "driver.find_element(By.XPATH, '/html/body/div[3]/div/div/div/div/div/div[3]/button[1]').click()\n",
    "\n",
    "for i in range(2,12):\n",
    "    d = driver.find_element_by_xpath('/html/body/div[1]/main/div[2]/main/div[1]/section/div[2]/details['+str(i)+']/summary/div/div')\n",
    "    print(d.text)\n",
    "    sleep(4)\n",
    "  "
   ]
  },
  {
   "cell_type": "markdown",
   "metadata": {},
   "source": []
  }
 ],
 "metadata": {
  "interpreter": {
   "hash": "770021e68aae5e5bc49f7a3b6edb919a4a251fef8e7696fd47196c25263b13c4"
  },
  "kernelspec": {
   "display_name": "Python 3.9.7 ('base')",
   "language": "python",
   "name": "python3"
  },
  "language_info": {
   "codemirror_mode": {
    "name": "ipython",
    "version": 3
   },
   "file_extension": ".py",
   "mimetype": "text/x-python",
   "name": "python",
   "nbconvert_exporter": "python",
   "pygments_lexer": "ipython3",
   "version": "3.9.7"
  },
  "orig_nbformat": 4
 },
 "nbformat": 4,
 "nbformat_minor": 2
}
