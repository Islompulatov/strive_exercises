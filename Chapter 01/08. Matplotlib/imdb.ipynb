{
 "cells": [
  {
   "cell_type": "code",
   "execution_count": 1,
   "metadata": {},
   "outputs": [],
   "source": [
    "import requests\n",
    "from bs4 import BeautifulSoup\n",
    "import pandas as pd\n"
   ]
  },
  {
   "cell_type": "code",
   "execution_count": 3,
   "metadata": {},
   "outputs": [
    {
     "name": "stdout",
     "output_type": "stream",
     "text": [
      "<Response [200]>\n"
     ]
    }
   ],
   "source": [
    "url = 'https://www.imdb.com/search/title/?genres=crime&sort=user_rating,desc&title_type=feature&num_votes=25000,&pf_rd_m=A2FGELUUNOQJNL&pf_rd_p=5aab685f-35eb-40f3-95f7-c53f09d542c3&pf_rd_r=KJP1NJ9ZQW77QJTD8XHA&pf_rd_s=right-6&pf_rd_t=15506&pf_rd_i=top&ref_=chttp_gnr_6'\n",
    "page = requests.get(url)\n",
    "print(page)\n"
   ]
  },
  {
   "cell_type": "code",
   "execution_count": 28,
   "metadata": {},
   "outputs": [
    {
     "name": "stdout",
     "output_type": "stream",
     "text": [
      "[2021, 1972, 2016, 2008, 1974, 1957, 1994, 2021, 1990, 2021, 2002, 1999, 1995, 1991, 2006, 1995, 1994, 2019, 2018, 2012, 1963, 1957, 2018, 2017, 2013, 1992, 1984, 1983, 1973, 1971, 1944, 1931, 2018, 2015, 2015, 2012, 2012, 2019, 2013, 2005, 2000, 2000, 1998, 1997, 1996, 1995, 1995, 1976, 1969, 1962]\n"
     ]
    }
   ],
   "source": [
    "years = []\n",
    "soup = BeautifulSoup(page.content, 'html.parser')\n",
    "div = soup.find_all('span', class_ = 'lister-item-year text-muted unbold')\n",
    "for i in div:\n",
    "    years.append(int(i.text.strip('(,)I) (')))\n",
    "print(years)"
   ]
  },
  {
   "cell_type": "code",
   "execution_count": 20,
   "metadata": {},
   "outputs": [
    {
     "name": "stdout",
     "output_type": "stream",
     "text": [
      "[9.3, 9.2, 9.1, 9.0, 9.0, 9.0, 8.9, 8.7, 8.7, 8.6, 8.6, 8.6, 8.6, 8.6, 8.5, 8.5, 8.5, 8.4, 8.4, 8.4, 8.4, 8.4, 8.3, 8.3, 8.3, 8.3, 8.3, 8.3, 8.3, 8.3, 8.3, 8.3, 8.2, 8.2, 8.2, 8.2, 8.2, 8.2, 8.2, 8.2, 8.2, 8.2, 8.2, 8.2, 8.2, 8.2, 8.2, 8.2, 8.2, 8.2]\n"
     ]
    }
   ],
   "source": [
    "rating_stars = []\n",
    "div = soup.find_all('div', class_ = 'inline-block ratings-imdb-rating')\n",
    "for i in div:\n",
    "    rating_stars.append(float(i.text.strip('\\n')))\n",
    "print(rating_stars)    "
   ]
  },
  {
   "cell_type": "code",
   "execution_count": 22,
   "metadata": {},
   "outputs": [
    {
     "name": "stdout",
     "output_type": "stream",
     "text": [
      "[164, 175, 147, 152, 202, 96, 154, 164, 146, 152, 130, 189, 127, 118, 151, 106, 110, 122, 170, 164, 143, 116, 156, 147, 160, 99, 229, 170, 129, 136, 107, 117, 139, 132, 163, 321, 135, 130, 180, 140, 156, 104, 107, 138, 128, 170, 178, 114, 127, 129]\n"
     ]
    }
   ],
   "source": [
    "duration = []\n",
    "div = soup.find_all('span', class_ = 'runtime')\n",
    "for i in div:\n",
    "    duration.append(int(i.text.strip('min')))\n",
    "print(duration)    "
   ]
  },
  {
   "cell_type": "code",
   "execution_count": 40,
   "metadata": {},
   "outputs": [
    {
     "name": "stdout",
     "output_type": "stream",
     "text": [
      "['When a tribal man is arrested for a case of alleged theft, his wife turns to a human-rights lawyer to help bring justice.', 'The aging patriarch of an organized crime dynasty in postwar New York City transfers control of his clandestine empire to his reluctant youngest son.', 'Ayna is an actor and the prison is his stage. He slips into the characters of the powerful convicted in exchange of money and take their place in prison. This strange profession is borne ...', 'When the menace known as the Joker wreaks havoc and chaos on the people of Gotham, Batman must accept one of the greatest psychological and physical tests of his ability to fight injustice.', 'The early life and career of Vito Corleone in 1920s New York City is portrayed, while his son, Michael, expands and tightens his grip on the family crime syndicate.', 'The jury in a New York City murder trial is frustrated by a single member whose skeptical caution forces them to more carefully consider the evidence before jumping to a hasty verdict.', 'The lives of two mob hitmen, a boxer, a gangster and his wife, and a pair of diner bandits intertwine in four tales of violence and redemption.', 'A biopic detailing the 2 decades that Punjabi Sikh revolutionary Udham Singh spent planning the assassination of the man responsible for the Jallianwala Bagh massacre.', 'The story of Henry Hill and his life in the mob, covering his relationship with his wife Karen Hill and his mob partners Jimmy Conway and Tommy DeVito in the Italian-American crime syndicate.', 'A gripping tale of an investigation and a family which is threatened by it. Will Georgekutty be able to protect his family this time?', \"In the slums of Rio, two kids' paths diverge as one struggles to become a photographer and the other a kingpin.\", 'The lives of guards on Death Row are affected by one of their charges: a black man accused of child murder and rape, yet who has a mysterious gift.', 'Two detectives, a rookie and a veteran, hunt a serial killer who uses the seven deadly sins as his motives.', 'A young F.B.I. cadet must receive the help of an incarcerated and manipulative cannibal killer to help catch another serial killer, a madman who skins his victims.', 'An undercover cop and a mole in the police attempt to identify each other while infiltrating an Irish gang in South Boston.', 'A sole survivor tells of the twisty events leading up to a horrific gun battle on a boat, which began when five criminals met at a seemingly random police lineup.', \"12-year-old Mathilda is reluctantly taken in by Léon, a professional assassin, after her family is murdered. An unusual relationship forms as she becomes his protégée and learns the assassin's trade.\", 'In Gotham City, mentally troubled comedian Arthur Fleck is disregarded and mistreated by society. He then embarks on a downward spiral of revolution and bloody crime. This path brings him face-to-face with his alter-ego: the Joker.', 'A sub-inspector sets out in pursuit of a mysterious serial killer who targets teen school girls and murders them brutally.', \"Eight years after the Joker's reign of anarchy, Batman, with the help of the enigmatic Catwoman, is forced from his exile to save Gotham City from the brutal guerrilla terrorist Bane.\", \"An executive of a Yokohama shoe company becomes a victim of extortion when his chauffeur's son is kidnapped by mistake and held for ransom.\", 'A veteran British barrister must defend his client in a murder trial that has surprise after surprise.', 'In the 1970s, a gangster goes undercover as a slave to assassinate the owner of a notorious gold mine.', \"Vikram, a no-nonsense police officer, accompanied by Simon, his partner, is on the hunt to capture Vedha, a smuggler and a murderer. Vedha tries to change Vikram's life, which leads to a conflict.\", 'A man goes to extreme lengths to save his family from punishment after the family commits an accidental crime.', 'When a simple jewelry heist goes horribly wrong, the surviving criminals begin to suspect that one of them is a police informant.', 'A former Prohibition-era Jewish gangster returns to the Lower East Side of Manhattan 35 years later, where he must once again confront the ghosts and regrets of his old life.', 'In 1980 Miami, a determined Cuban immigrant takes over a drug cartel and succumbs to greed.', 'Two grifters team up to pull off the ultimate con.', \"In the future, a sadistic gang leader is imprisoned and volunteers for a conduct-aversion experiment, but it doesn't go as planned.\", 'A Los Angeles insurance representative lets an alluring housewife seduce him into a scheme of insurance fraud and murder that arouses the suspicion of his colleague, an insurance investigator.', 'When the police in a German city are unable to catch a child-murderer, other criminals join in the manhunt.', 'A series of mysterious events change the life of a blind pianist, who must now report a crime that he should technically know nothing of.', 'An experienced investigator confronts several conflicting theories about the perpetrators of a violent double homicide.', 'Desperate measures are taken by a man who tries to save his family from the dark side of the law, after they commit an unexpected crime.', 'A clash between Sultan and Shahid Khan leads to the expulsion of Khan from Wasseypur, and ignites a deadly blood feud spanning three generations.', 'The story of Paan Singh Tomar, an Indian athlete and seven-time national steeplechase champion who becomes one of the most feared dacoits in Chambal Valley after his retirement.', 'In the rural heartlands of India, an upright police officer sets out on a crusade against violent caste-based crimes and discrimination.', 'Based on the true story of Jordan Belfort, from his rise to a wealthy stock-broker living the high life to his fall involving crime, corruption and the federal government.', 'After training with his mentor, Batman begins his fight to free crime-ridden Gotham City from corruption.', 'Three unemployed men look for answers to all their money problems - but when their opportunity arrives, will they know what to do with it?', 'Unscrupulous boxing promoters, violent bookmakers, a Russian gangster, incompetent amateur robbers and supposedly Jewish jewelers fight to track down a priceless stolen diamond.', 'Eddy persuades his three pals to pool money for a vital poker game against a powerful local mobster, Hatchet Harry. Eddy loses, after which Harry gives him a week to pay back 500,000 pounds.', 'As corruption grows in 1950s Los Angeles, three policemen - one strait-laced, one brutal, and one sleazy - investigate a series of murders with their own brand of justice.', 'Baran the Bandit, released from prison after 35 years, searches for vengeance and his lover.', 'A group of high-end professional thieves start to feel the heat from the LAPD when they unknowingly leave a clue at their latest heist.', 'A tale of greed, deception, money, power, and murder occur between two best friends: a mafia enforcer and a casino executive compete against each other over a gambling empire, and over a fast-living and fast-loving socialite.', 'A mentally unstable veteran works as a nighttime taxi driver in New York City, where the perceived decadence and sleaze fuels his urge for violent action.', 'The public murder of a prominent politician and doctor amid a violent demonstration is covered up by military and government officials. A tenacious magistrate is determined not to let them get away with it.', 'Atticus Finch, a widowed lawyer in Depression-era Alabama, defends a black man against an undeserved rape charge, and his children against prejudice.']\n"
     ]
    }
   ],
   "source": [
    "desc = []\n",
    "div = soup.find_all('p', class_= 'text-muted')\n",
    "for i in div:\n",
    "    desc.append(i.text)\n",
    "description = []\n",
    "for j in range(1, len(desc), 2):\n",
    "    description.append(desc[j].strip('\\nSee full summary\\xa0»'))\n",
    "print(description)    "
   ]
  },
  {
   "cell_type": "code",
   "execution_count": 77,
   "metadata": {},
   "outputs": [],
   "source": [
    "director_name = []\n",
    "div = soup.find_all('div', class_ = '')\n",
    "for i in div:\n",
    "    director_name.append(i.text)\n",
    "    print(i.text)    \n"
   ]
  },
  {
   "cell_type": "code",
   "execution_count": null,
   "metadata": {},
   "outputs": [],
   "source": []
  }
 ],
 "metadata": {
  "interpreter": {
   "hash": "770021e68aae5e5bc49f7a3b6edb919a4a251fef8e7696fd47196c25263b13c4"
  },
  "kernelspec": {
   "display_name": "Python 3.9.7 ('base')",
   "language": "python",
   "name": "python3"
  },
  "language_info": {
   "codemirror_mode": {
    "name": "ipython",
    "version": 3
   },
   "file_extension": ".py",
   "mimetype": "text/x-python",
   "name": "python",
   "nbconvert_exporter": "python",
   "pygments_lexer": "ipython3",
   "version": "3.9.7"
  },
  "orig_nbformat": 4
 },
 "nbformat": 4,
 "nbformat_minor": 2
}
